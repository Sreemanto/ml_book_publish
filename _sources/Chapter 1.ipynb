{
 "cells": [
  {
   "cell_type": "markdown",
   "metadata": {},
   "source": [
    "# Chapter 1"
   ]
  },
  {
   "cell_type": "markdown",
   "metadata": {},
   "source": [
    "Complete the tasks listed below. You can submit the completed lab until 11:59 PM in the night."
   ]
  },
  {
   "cell_type": "markdown",
   "metadata": {},
   "source": [
    "### Task 1 (1 mark)\n",
    "\n",
    "A file named __Lincoln.txt__ is included in the folder containing this Notebook. Open the file and write some traditional Python code (one that uses nested _for_ loops) to extract all the words from this file into a list named __word_list__. The list should only include the words from the file in lower case (punctuation, hyphens, new line characters etc should not be included). A portion of the output is shown below for your convenience:"
   ]
  },
  {
   "cell_type": "markdown",
   "metadata": {},
   "source": [
    "<u>Hint:</u> You can use a very short snippet of code exploiting Python's regular expression __re__ module, which would make your task a whole lot easier."
   ]
  },
  {
   "cell_type": "code",
   "execution_count": 1,
   "metadata": {},
   "outputs": [],
   "source": [
    "import re\n",
    "import pandas as pd"
   ]
  },
  {
   "cell_type": "code",
   "execution_count": 2,
   "metadata": {},
   "outputs": [],
   "source": [
    "word_list = []\n",
    "\n",
    "def lower(match_obj):\n",
    "    '''\n",
    "    This function is use to convert the uppercase character to lower case character\n",
    "    '''\n",
    "    char_elem = match_obj.group(0)\n",
    "    if char_elem.isupper():\n",
    "        return char_elem.lower()\n",
    "    else:\n",
    "        return char_elem.lower()\n",
    "  \n",
    "\n",
    "\n",
    "\n",
    "with open('./data/Lincoln.txt') as f:\n",
    "    for line in f:\n",
    "        line = line.replace(\"\\n\", \"\")\n",
    "        \n",
    "        #regex to change the worde to lower case\n",
    "        new_line = re.sub(r\"[a-zA-Z]\",lower, line)\n",
    "        \n",
    "        #spliting the line in to words on the basis of \" \"\n",
    "        words = new_line.split(\" \")\n",
    "        \n",
    "        #looping through each word to remove the punctuation and copying them in a list\n",
    "        for word in words:\n",
    "            #regex to get rid of punctuations\n",
    "            new_word = re.sub(r'[^a-zA-Z0-9\\s]', '', word)\n",
    "            word_list.append(new_word)\n",
    "        "
   ]
  },
  {
   "cell_type": "markdown",
   "metadata": {},
   "source": [
    "### Task 2 (1 mark)\n",
    "\n",
    "Do the same you did in Task 1 above, this time around using a list comprehension instead."
   ]
  },
  {
   "cell_type": "code",
   "execution_count": 3,
   "metadata": {},
   "outputs": [],
   "source": [
    "word_list = []\n",
    "with open('./data/Lincoln.txt') as f:\n",
    "    for line in f:\n",
    "\n",
    "        #regex to change the worde to lower case\n",
    "        words = re.sub(r\"[a-zA-Z]\",lower, line.replace(\"\\n\", \"\")).split(\" \")\n",
    "        \n",
    "        #list comprehnsion\n",
    "        temp = [re.sub(r'[^a-zA-Z0-9\\s]', '', word) for word in words]\n",
    "        \n",
    "        word_list.extend(temp)\n"
   ]
  },
  {
   "cell_type": "markdown",
   "metadata": {},
   "source": [
    "### Task 3 (1 mark)\n",
    "\n",
    "Write code that creates a dictionary named __counts__ which stores the counts of all the words included in the list __word_list__. A portion of the output is shown below for your convenience:"
   ]
  },
  {
   "cell_type": "code",
   "execution_count": 6,
   "metadata": {},
   "outputs": [
    {
     "data": {
      "text/plain": [
       "{'four': 1,\n",
       " 'score': 1,\n",
       " 'and': 6,\n",
       " 'seven': 1,\n",
       " 'years': 1,\n",
       " 'ago': 1,\n",
       " 'our': 2,\n",
       " 'fathers': 1,\n",
       " 'brought': 1,\n",
       " 'forth': 1,\n",
       " 'on': 2,\n",
       " 'this': 4,\n",
       " 'continent': 1,\n",
       " 'a': 7,\n",
       " 'new': 2,\n",
       " 'nation': 5,\n",
       " 'conceived': 2,\n",
       " 'in': 4,\n",
       " 'liberty': 1,\n",
       " 'dedicated': 4,\n",
       " 'to': 8,\n",
       " 'the': 11,\n",
       " 'proposition': 1,\n",
       " 'that': 13,\n",
       " 'all': 1,\n",
       " 'men': 2,\n",
       " 'are': 3,\n",
       " 'created': 1,\n",
       " 'equal': 1,\n",
       " '': 9,\n",
       " 'now': 1,\n",
       " 'we': 10,\n",
       " 'engaged': 1,\n",
       " 'great': 3,\n",
       " 'civil': 1,\n",
       " 'war': 2,\n",
       " 'testing': 1,\n",
       " 'whether': 1,\n",
       " 'or': 2,\n",
       " 'any': 1,\n",
       " 'so': 2,\n",
       " 'can': 5,\n",
       " 'long': 2,\n",
       " 'endure': 1,\n",
       " 'met': 1,\n",
       " 'battlefield': 1,\n",
       " 'of': 5,\n",
       " 'have': 5,\n",
       " 'come': 1,\n",
       " 'dedicate': 2,\n",
       " 'portion': 1,\n",
       " 'field': 1,\n",
       " 'as': 1,\n",
       " 'final': 1,\n",
       " 'resting': 1,\n",
       " 'place': 1,\n",
       " 'for': 5,\n",
       " 'those': 1,\n",
       " 'who': 3,\n",
       " 'here': 8,\n",
       " 'gave': 2,\n",
       " 'their': 1,\n",
       " 'lives': 1,\n",
       " 'might': 1,\n",
       " 'live': 1,\n",
       " 'it': 5,\n",
       " 'is': 3,\n",
       " 'altogether': 1,\n",
       " 'fitting': 1,\n",
       " 'proper': 1,\n",
       " 'should': 1,\n",
       " 'do': 1,\n",
       " 'but': 2,\n",
       " 'larger': 1,\n",
       " 'sense': 1,\n",
       " 'not': 5,\n",
       " 'consecrate': 1,\n",
       " 'hallow': 1,\n",
       " 'ground': 1,\n",
       " 'brave': 1,\n",
       " 'living': 2,\n",
       " 'dead': 3,\n",
       " 'struggled': 1,\n",
       " 'consecrated': 1,\n",
       " 'far': 2,\n",
       " 'above': 1,\n",
       " 'poor': 1,\n",
       " 'power': 1,\n",
       " 'add': 1,\n",
       " 'detract': 1,\n",
       " 'world': 1,\n",
       " 'will': 1,\n",
       " 'little': 1,\n",
       " 'note': 1,\n",
       " 'nor': 1,\n",
       " 'remember': 1,\n",
       " 'what': 2,\n",
       " 'say': 1,\n",
       " 'never': 1,\n",
       " 'forget': 1,\n",
       " 'they': 3,\n",
       " 'did': 1,\n",
       " 'us': 3,\n",
       " 'rather': 2,\n",
       " 'be': 2,\n",
       " 'unfinished': 1,\n",
       " 'work': 1,\n",
       " 'which': 2,\n",
       " 'fought': 1,\n",
       " 'thus': 1,\n",
       " 'nobly': 1,\n",
       " 'advanced': 1,\n",
       " 'task': 1,\n",
       " 'remaining': 1,\n",
       " 'before': 1,\n",
       " 'from': 2,\n",
       " 'these': 2,\n",
       " 'honored': 1,\n",
       " 'take': 1,\n",
       " 'increased': 1,\n",
       " 'devotion': 2,\n",
       " 'cause': 1,\n",
       " 'last': 1,\n",
       " 'full': 1,\n",
       " 'measure': 1,\n",
       " 'highly': 1,\n",
       " 'resolve': 1,\n",
       " 'shall': 3,\n",
       " 'died': 1,\n",
       " 'vain': 1,\n",
       " 'under': 1,\n",
       " 'god': 1,\n",
       " 'birth': 1,\n",
       " 'freedom': 1,\n",
       " 'government': 1,\n",
       " 'people': 3,\n",
       " 'by': 1,\n",
       " 'perish': 1,\n",
       " 'earth': 1}"
      ]
     },
     "execution_count": 6,
     "metadata": {},
     "output_type": "execute_result"
    }
   ],
   "source": [
    "from collections import Counter\n",
    "counts = dict(Counter(word_list))\n",
    "counts"
   ]
  },
  {
   "cell_type": "markdown",
   "metadata": {},
   "source": [
    "### Task 4 (1 mark)\n",
    "\n",
    "Three lists are provided below for you to work with. "
   ]
  },
  {
   "cell_type": "markdown",
   "metadata": {},
   "source": [
    "    numbers = [1, 2, 3]\n",
    "    letters = ['a', 'b', 'c']\n",
    "    longest = list(range(5))"
   ]
  },
  {
   "cell_type": "markdown",
   "metadata": {},
   "source": [
    "Connect the lists in such a way that the output looks as follows:"
   ]
  },
  {
   "cell_type": "code",
   "execution_count": 7,
   "metadata": {},
   "outputs": [
    {
     "data": {
      "text/plain": [
       "[(1, 'a', 0), (2, 'b', 1), (3, 'c', 2), (None, None, 3), (None, None, 4)]"
      ]
     },
     "execution_count": 7,
     "metadata": {},
     "output_type": "execute_result"
    }
   ],
   "source": [
    "from itertools import zip_longest\n",
    "\n",
    "numbers = [1, 2, 3]\n",
    "letters = ['a', 'b', 'c']\n",
    "longest = list(range(5))\n",
    "    \n",
    "    \n",
    "result = list(zip_longest(numbers, letters,longest))\n",
    "result\n"
   ]
  },
  {
   "cell_type": "markdown",
   "metadata": {},
   "source": [
    "### Task 5 (1 mark)\n",
    "\n",
    "Read the file __visit_data.csv__ into a Dataframe __df__. Figure out which of the columns in the Dataframe have duplicated values. Report your result as follows:"
   ]
  },
  {
   "cell_type": "markdown",
   "metadata": {},
   "source": [
    "Use only two lines of code to accomplish the above. Do this first using just the __print__ function, then the __%__ operator with the __print__ function, and finally the __format__ method with the __print__ function.\n",
    "\n",
    "<u>Hints</u>: You can use __map__ and __str__ in conjunction with the __join__ method. To make the text bold font, you can use `'\\033[1m'` and `'\\033[0m'`."
   ]
  },
  {
   "cell_type": "code",
   "execution_count": 8,
   "metadata": {},
   "outputs": [
    {
     "data": {
      "text/html": [
       "<div>\n",
       "<style scoped>\n",
       "    .dataframe tbody tr th:only-of-type {\n",
       "        vertical-align: middle;\n",
       "    }\n",
       "\n",
       "    .dataframe tbody tr th {\n",
       "        vertical-align: top;\n",
       "    }\n",
       "\n",
       "    .dataframe thead th {\n",
       "        text-align: right;\n",
       "    }\n",
       "</style>\n",
       "<table border=\"1\" class=\"dataframe\">\n",
       "  <thead>\n",
       "    <tr style=\"text-align: right;\">\n",
       "      <th></th>\n",
       "      <th>id</th>\n",
       "      <th>first_name</th>\n",
       "      <th>last_name</th>\n",
       "      <th>email</th>\n",
       "      <th>gender</th>\n",
       "      <th>ip_address</th>\n",
       "      <th>nb_visits</th>\n",
       "    </tr>\n",
       "  </thead>\n",
       "  <tbody>\n",
       "    <tr>\n",
       "      <th>0</th>\n",
       "      <td>1</td>\n",
       "      <td>Sonny</td>\n",
       "      <td>Dahl</td>\n",
       "      <td>sdahl0@mysql.com</td>\n",
       "      <td>Male</td>\n",
       "      <td>135.36.96.183</td>\n",
       "      <td>1225.0</td>\n",
       "    </tr>\n",
       "    <tr>\n",
       "      <th>1</th>\n",
       "      <td>2</td>\n",
       "      <td>NaN</td>\n",
       "      <td>NaN</td>\n",
       "      <td>dhoovart1@hud.gov</td>\n",
       "      <td>NaN</td>\n",
       "      <td>237.165.194.143</td>\n",
       "      <td>919.0</td>\n",
       "    </tr>\n",
       "    <tr>\n",
       "      <th>2</th>\n",
       "      <td>3</td>\n",
       "      <td>Gar</td>\n",
       "      <td>Armal</td>\n",
       "      <td>garmal2@technorati.com</td>\n",
       "      <td>NaN</td>\n",
       "      <td>166.43.137.224</td>\n",
       "      <td>271.0</td>\n",
       "    </tr>\n",
       "    <tr>\n",
       "      <th>3</th>\n",
       "      <td>4</td>\n",
       "      <td>Chiarra</td>\n",
       "      <td>Nulty</td>\n",
       "      <td>cnulty3@newyorker.com</td>\n",
       "      <td>NaN</td>\n",
       "      <td>139.98.137.108</td>\n",
       "      <td>1002.0</td>\n",
       "    </tr>\n",
       "    <tr>\n",
       "      <th>4</th>\n",
       "      <td>5</td>\n",
       "      <td>NaN</td>\n",
       "      <td>NaN</td>\n",
       "      <td>sleaver4@elegantthemes.com</td>\n",
       "      <td>NaN</td>\n",
       "      <td>46.117.117.27</td>\n",
       "      <td>2434.0</td>\n",
       "    </tr>\n",
       "  </tbody>\n",
       "</table>\n",
       "</div>"
      ],
      "text/plain": [
       "   id first_name last_name                       email gender  \\\n",
       "0   1      Sonny      Dahl            sdahl0@mysql.com   Male   \n",
       "1   2        NaN       NaN           dhoovart1@hud.gov    NaN   \n",
       "2   3        Gar     Armal      garmal2@technorati.com    NaN   \n",
       "3   4    Chiarra     Nulty       cnulty3@newyorker.com    NaN   \n",
       "4   5        NaN       NaN  sleaver4@elegantthemes.com    NaN   \n",
       "\n",
       "        ip_address  nb_visits  \n",
       "0    135.36.96.183     1225.0  \n",
       "1  237.165.194.143      919.0  \n",
       "2   166.43.137.224      271.0  \n",
       "3   139.98.137.108     1002.0  \n",
       "4    46.117.117.27     2434.0  "
      ]
     },
     "execution_count": 8,
     "metadata": {},
     "output_type": "execute_result"
    }
   ],
   "source": [
    "df = pd.read_csv(\"./data/visit_data.csv\")\n",
    "df.head(5)"
   ]
  },
  {
   "cell_type": "markdown",
   "metadata": {},
   "source": [
    "You will find that there are duplicates in __First Name__, __Last Name__, __Gender__, and __Nb Visits__. Do you find these abnormal? Explain your reasoning in the cell below."
   ]
  },
  {
   "cell_type": "markdown",
   "metadata": {},
   "source": [
    "__Reasoning:__ ..."
   ]
  },
  {
   "cell_type": "markdown",
   "metadata": {},
   "source": [
    "### Task 6 (1 mark)\n",
    "\n",
    "Save the number of rows in the Dataframe as __size_prev__. Then drop any missing values from the column __nb_visits__, save the resulting Dataframe, and again save the number of rows as __size_after__. Report the size of the resulting Dataframe as follows using __print__ in conjunction with __format__:"
   ]
  },
  {
   "cell_type": "code",
   "execution_count": 9,
   "metadata": {},
   "outputs": [],
   "source": [
    "size_prev = df.shape[0]\n",
    "\n"
   ]
  },
  {
   "cell_type": "code",
   "execution_count": 10,
   "metadata": {},
   "outputs": [
    {
     "data": {
      "text/plain": [
       "id              0\n",
       "first_name    296\n",
       "last_name     296\n",
       "email           0\n",
       "gender        505\n",
       "ip_address      0\n",
       "nb_visits      26\n",
       "dtype: int64"
      ]
     },
     "execution_count": 10,
     "metadata": {},
     "output_type": "execute_result"
    }
   ],
   "source": [
    "#checking the missing values\n",
    "df.isnull().sum()"
   ]
  },
  {
   "cell_type": "code",
   "execution_count": 11,
   "metadata": {},
   "outputs": [],
   "source": [
    "df.dropna(subset=['nb_visits'], how='all', inplace=True)"
   ]
  },
  {
   "cell_type": "code",
   "execution_count": 12,
   "metadata": {},
   "outputs": [],
   "source": [
    "size_after = df.shape[0]"
   ]
  },
  {
   "cell_type": "code",
   "execution_count": 13,
   "metadata": {},
   "outputs": [
    {
     "name": "stdout",
     "output_type": "stream",
     "text": [
      "Size of the previous data was - 1000 rows and the size of the new one is - 974\n"
     ]
    }
   ],
   "source": [
    "print(\"Size of the previous data was - {} rows and the size of the new one is - {}\".\n",
    "                                                                 format(size_prev,size_after))\n",
    "                                                                 \n",
    "                                                                 "
   ]
  },
  {
   "cell_type": "markdown",
   "metadata": {},
   "source": [
    "### Task 7 (1 mark)\n",
    "\n",
    "Import the necessary plotting libraries and visualize any outliers for the column __nb_visits__."
   ]
  },
  {
   "cell_type": "code",
   "execution_count": 14,
   "metadata": {},
   "outputs": [],
   "source": [
    "from scipy import stats\n",
    "import matplotlib.pyplot as plt\n"
   ]
  },
  {
   "cell_type": "code",
   "execution_count": 15,
   "metadata": {},
   "outputs": [
    {
     "data": {
      "image/png": "[encoded data removed]",
      "text/plain": [
       "<Figure size 432x288 with 1 Axes>"
      ]
     },
     "metadata": {
      "needs_background": "light"
     },
     "output_type": "display_data"
    }
   ],
   "source": [
    "plt.plot(df.nb_visits)\n",
    "plt.show()"
   ]
  },
  {
   "cell_type": "code",
   "execution_count": 16,
   "metadata": {
    "scrolled": true
   },
   "outputs": [
    {
     "data": {
      "image/png": "[encoded data removed]",
      "text/plain": [
       "<Figure size 432x288 with 1 Axes>"
      ]
     },
     "metadata": {
      "needs_background": "light"
     },
     "output_type": "display_data"
    }
   ],
   "source": [
    "plt.boxplot(df.nb_visits)\n",
    "plt.show()"
   ]
  },
  {
   "cell_type": "markdown",
   "metadata": {},
   "source": [
    "#### Note : Cannot possible see any outliers from the boxplot and the line plot maybe have to check the z-score"
   ]
  },
  {
   "cell_type": "markdown",
   "metadata": {},
   "source": [
    "Did you see any outliers?"
   ]
  },
  {
   "cell_type": "markdown",
   "metadata": {},
   "source": [
    "__Answer:__ ..."
   ]
  },
  {
   "cell_type": "markdown",
   "metadata": {},
   "source": [
    "### Task 8 (1 mark)\n",
    "\n",
    "Now filter the Dataframe based on the z-score for the column __nb_visits__."
   ]
  },
  {
   "cell_type": "code",
   "execution_count": 17,
   "metadata": {},
   "outputs": [],
   "source": [
    "z_score = stats.zscore(df.nb_visits)"
   ]
  },
  {
   "cell_type": "code",
   "execution_count": 18,
   "metadata": {},
   "outputs": [
    {
     "data": {
      "text/plain": [
       "1.7888757591039082"
      ]
     },
     "execution_count": 18,
     "metadata": {},
     "output_type": "execute_result"
    }
   ],
   "source": [
    "z_score.max()"
   ]
  },
  {
   "cell_type": "code",
   "execution_count": 19,
   "metadata": {},
   "outputs": [
    {
     "data": {
      "text/plain": [
       "-1.785241741533329"
      ]
     },
     "execution_count": 19,
     "metadata": {},
     "output_type": "execute_result"
    }
   ],
   "source": [
    "z_score.min()"
   ]
  },
  {
   "cell_type": "code",
   "execution_count": 20,
   "metadata": {},
   "outputs": [
    {
     "data": {
      "text/plain": [
       "(974, 7)"
      ]
     },
     "execution_count": 20,
     "metadata": {},
     "output_type": "execute_result"
    }
   ],
   "source": [
    "df_without_outliers = df[(z_score < 3) | (z_score < -3)]\n",
    "df_without_outliers.shape"
   ]
  },
  {
   "cell_type": "markdown",
   "metadata": {},
   "source": [
    "Were any outliers removed?"
   ]
  },
  {
   "cell_type": "markdown",
   "metadata": {},
   "source": [
    "__Answer:__ ..."
   ]
  },
  {
   "cell_type": "markdown",
   "metadata": {},
   "source": [
    "#### Cannot see any outliers as the max and min values are within +3 and -3"
   ]
  },
  {
   "cell_type": "markdown",
   "metadata": {},
   "source": [
    "### Task 9 (1 mark)\n",
    "\n",
    "Let's introduce some outliers into the column __nb_visits__. Simply multiply the first five values for this column with 10 and once again visualize any outliers."
   ]
  },
  {
   "cell_type": "code",
   "execution_count": 21,
   "metadata": {},
   "outputs": [],
   "source": [
    "df.loc[:5,'nb_visits'] = df.loc[:5,'nb_visits']*5 "
   ]
  },
  {
   "cell_type": "code",
   "execution_count": 22,
   "metadata": {},
   "outputs": [
    {
     "data": {
      "text/plain": [
       "0     6125.0\n",
       "1     4595.0\n",
       "2     1355.0\n",
       "3     5010.0\n",
       "4    12170.0\n",
       "5     2255.0\n",
       "Name: nb_visits, dtype: float64"
      ]
     },
     "execution_count": 22,
     "metadata": {},
     "output_type": "execute_result"
    }
   ],
   "source": [
    "df.loc[:5,'nb_visits']"
   ]
  },
  {
   "cell_type": "code",
   "execution_count": 23,
   "metadata": {},
   "outputs": [
    {
     "data": {
      "image/png": "[encoded data removed]",
      "text/plain": [
       "<Figure size 432x288 with 1 Axes>"
      ]
     },
     "metadata": {
      "needs_background": "light"
     },
     "output_type": "display_data"
    }
   ],
   "source": [
    "plt.boxplot(df.nb_visits)\n",
    "plt.show()"
   ]
  },
  {
   "cell_type": "markdown",
   "metadata": {},
   "source": [
    "Did you see any outliers?"
   ]
  },
  {
   "cell_type": "markdown",
   "metadata": {},
   "source": [
    "__Answer:__ ..."
   ]
  },
  {
   "cell_type": "markdown",
   "metadata": {},
   "source": [
    "#### Now we do see 4 outliers from the box plot"
   ]
  },
  {
   "cell_type": "markdown",
   "metadata": {},
   "source": [
    "### Task 10 (1 mark)\n",
    "\n",
    "Finally, filter the Dataframe once again based on the z-score for the updated __nb_visits__ column and save the resulting Dataframe."
   ]
  },
  {
   "cell_type": "code",
   "execution_count": 24,
   "metadata": {},
   "outputs": [],
   "source": [
    "z_score = stats.zscore(df.nb_visits)"
   ]
  },
  {
   "cell_type": "code",
   "execution_count": 25,
   "metadata": {},
   "outputs": [
    {
     "data": {
      "text/plain": [
       "(970, 7)"
      ]
     },
     "execution_count": 25,
     "metadata": {},
     "output_type": "execute_result"
    }
   ],
   "source": [
    "df_without_outliers = df[(z_score < 3) | (z_score < -3)]\n",
    "df_without_outliers.shape"
   ]
  },
  {
   "cell_type": "markdown",
   "metadata": {},
   "source": [
    "Were any outliers removed? If yes, how many? Did the number of outliers removed agree with the visualization in Task 7 above? Did you get the same number of outliers you were expecting? If not, why?"
   ]
  },
  {
   "cell_type": "markdown",
   "metadata": {},
   "source": [
    "__Answer:__ ..."
   ]
  },
  {
   "cell_type": "markdown",
   "metadata": {},
   "source": [
    "#### Yes we do see that the some outliers are now removed. As expected the count of the dataframe recedded by 4 and the output of the dataframe was lowered by 4 rows as expected"
   ]
  }
 ],
 "metadata": {
  "anaconda-cloud": {},
  "kernelspec": {
   "display_name": "Python 3",
   "language": "python",
   "name": "python3"
  },
  "language_info": {
   "codemirror_mode": {
    "name": "ipython",
    "version": 3
   },
   "file_extension": ".py",
   "mimetype": "text/x-python",
   "name": "python",
   "nbconvert_exporter": "python",
   "pygments_lexer": "ipython3",
   "version": "3.8.8"
  }
 },
 "nbformat": 4,
 "nbformat_minor": 2
}
